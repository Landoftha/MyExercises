{
 "cells": [
  {
   "cell_type": "markdown",
   "id": "ece22ca1",
   "metadata": {},
   "source": [
    "#  1. Importe as bibliotecas necessárias"
   ]
  },
  {
   "cell_type": "code",
   "execution_count": 1,
   "id": "f034e031",
   "metadata": {},
   "outputs": [],
   "source": [
    "import pandas as pd\n",
    "import numpy as np\n",
    "import matplotlib.pyplot as plt\n",
    "import seaborn as sns\n",
    "from sklearn.datasets import fetch_california_housing\n",
    "from sklearn.model_selection import train_test_split, GridSearchCV\n",
    "from sklearn.ensemble import GradientBoostingRegressor\n",
    "from sklearn.metrics import mean_squared_error, mean_absolute_error, r2_score\n",
    "from sklearn.preprocessing import StandardScaler"
   ]
  },
  {
   "cell_type": "markdown",
   "id": "b1ad4b59",
   "metadata": {},
   "source": [
    "#  2. Carregue o dataset California Housing"
   ]
  },
  {
   "cell_type": "code",
   "execution_count": 2,
   "id": "191bde51",
   "metadata": {},
   "outputs": [],
   "source": [
    "data = fetch_california_housing()\n",
    "df = pd.DataFrame(data=data.data, columns=data.feature_names)\n",
    "df['target'] = data.target"
   ]
  },
  {
   "cell_type": "markdown",
   "id": "2df84a08",
   "metadata": {},
   "source": [
    "#  3. Explore os dados (EDA)\n",
    "- Verifique as primeiras linhas do DataFrame\n",
    "- Plote histogramas, gráficos de dispersão e mapa de correlação"
   ]
  },
  {
   "cell_type": "code",
   "execution_count": null,
   "id": "ef4c0cea",
   "metadata": {},
   "outputs": [],
   "source": []
  },
  {
   "cell_type": "markdown",
   "id": "bea5ce68",
   "metadata": {},
   "source": [
    "#  4. Faça a limpeza e pré-processamento dos dados\n",
    "- Verifique valores nulos\n",
    "- Normalize os dados (opcional)"
   ]
  },
  {
   "cell_type": "code",
   "execution_count": null,
   "id": "b090be6d",
   "metadata": {},
   "outputs": [],
   "source": []
  },
  {
   "cell_type": "markdown",
   "id": "e8860945",
   "metadata": {},
   "source": [
    "# 5. Divida os dados em treino e teste\n",
    "- Use train_test_split para criar os conjuntos de treino e teste"
   ]
  },
  {
   "cell_type": "code",
   "execution_count": null,
   "id": "3cb6774b",
   "metadata": {},
   "outputs": [],
   "source": []
  },
  {
   "cell_type": "markdown",
   "id": "55b17ee6",
   "metadata": {},
   "source": [
    "#  6. Treine o modelo de regressão\n",
    "- Use GradientBoostingRegressor com parâmetros padrão"
   ]
  },
  {
   "cell_type": "code",
   "execution_count": null,
   "id": "289527ff",
   "metadata": {},
   "outputs": [],
   "source": []
  },
  {
   "cell_type": "markdown",
   "id": "af2515eb",
   "metadata": {},
   "source": [
    "#  7. Ajuste de hiperparâmetros (opcional)\n",
    "- Utilize GridSearchCV para encontrar os melhores parâmetros\n"
   ]
  },
  {
   "cell_type": "code",
   "execution_count": null,
   "id": "7030b98b",
   "metadata": {},
   "outputs": [],
   "source": []
  },
  {
   "cell_type": "markdown",
   "id": "4748a335",
   "metadata": {},
   "source": [
    "#  8. Avalie o desempenho do modelo\n",
    "- Calcule RMSE, MAE e R² no conjunto de teste"
   ]
  },
  {
   "cell_type": "code",
   "execution_count": null,
   "id": "cc0a0db2",
   "metadata": {},
   "outputs": [],
   "source": []
  },
  {
   "cell_type": "markdown",
   "id": "1f489e0e",
   "metadata": {},
   "source": [
    "#  9. Visualize os resultados\n",
    "- Plote os valores previstos vs reais\n",
    "- Crie gráficos de resíduos"
   ]
  },
  {
   "cell_type": "code",
   "execution_count": null,
   "id": "8563592a",
   "metadata": {},
   "outputs": [],
   "source": []
  },
  {
   "cell_type": "markdown",
   "id": "9fc7a798",
   "metadata": {},
   "source": [
    "#  10. Interprete os resultados e importância das features\n",
    "- Mostre as features mais importantes com base no modelo\n",
    "- Comente sobre os resultados"
   ]
  },
  {
   "cell_type": "code",
   "execution_count": null,
   "id": "5f9ee914",
   "metadata": {},
   "outputs": [],
   "source": []
  }
 ],
 "metadata": {
  "kernelspec": {
   "display_name": "Python 3",
   "language": "python",
   "name": "python3"
  },
  "language_info": {
   "codemirror_mode": {
    "name": "ipython",
    "version": 3
   },
   "file_extension": ".py",
   "mimetype": "text/x-python",
   "name": "python",
   "nbconvert_exporter": "python",
   "pygments_lexer": "ipython3",
   "version": "3.13.3"
  }
 },
 "nbformat": 4,
 "nbformat_minor": 5
}
